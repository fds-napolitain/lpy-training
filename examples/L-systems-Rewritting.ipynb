{
 "cells": [
  {
   "cell_type": "markdown",
   "metadata": {},
   "source": [
    "# L-systems\n"
   ]
  },
  {
   "cell_type": "code",
   "execution_count": 1,
   "metadata": {
    "ExecuteTime": {
     "end_time": "2021-10-07T13:12:25.799983Z",
     "start_time": "2021-10-07T13:12:24.981922Z"
    }
   },
   "outputs": [],
   "source": [
    "from pgljupyter import *"
   ]
  },
  {
   "cell_type": "markdown",
   "metadata": {},
   "source": [
    "# Fractals\n",
    "\n",
    "## The peano curve\n",
    "\n",
    "Reproduce the following rule and generate the resulting fractal shape until iteration 3.\n",
    "\n",
    "![peanocurve](./img/peanocurve.png)\n",
    "\n"
   ]
  },
  {
   "cell_type": "code",
   "execution_count": null,
   "metadata": {
    "ExecuteTime": {
     "end_time": "2021-10-07T13:05:18.977631Z",
     "start_time": "2021-10-07T13:05:18.965083Z"
    }
   },
   "outputs": [],
   "source": [
    "%%lpy -w 5\n",
    "\n",
    "Axiom: -(90) F G F\n",
    "derivation length: 3\n",
    "production: # en bas\n",
    "F --> F(1) +(45) F(0.1) +(45) F(1) -(90) F(1) -(90) F(1)\n",
    "G --> -(45) G(0.1) -(45) G(0.85) +(45) G(0.1)"
   ]
  },
  {
   "cell_type": "markdown",
   "metadata": {},
   "source": [
    "## The cantor dust\n",
    "\n",
    "Reproduce the following rule and generate the resulting fractal shap euntil iteration 3.\n",
    "\n",
    "![cantordust](./img/cantordust.png)\n"
   ]
  },
  {
   "cell_type": "code",
   "execution_count": 38,
   "metadata": {
    "ExecuteTime": {
     "end_time": "2021-10-06T16:08:19.719672Z",
     "start_time": "2021-10-06T16:08:19.708673Z"
    }
   },
   "outputs": [
    {
     "data": {
      "application/vnd.jupyter.widget-view+json": {
       "model_id": "64ef438dcb374219b68afe0860c3ba31",
       "version_major": 2,
       "version_minor": 0
      },
      "text/plain": [
       "LsystemWidget(derivationLength=4, is_magic=True, scene={'data': b'x\\xdaSLrw\\xf5\\xf7e`Pp\\xe0\\xe5RPVVde```be\\x08…"
      ]
     },
     "metadata": {},
     "output_type": "display_data"
    }
   ],
   "source": [
    "%%lpy\n",
    "Axiom: -(90) f(-0.5) F(1)\n",
    "derivation length: 3\n",
    "production:\n",
    "F(1) --> F(1) f(1) F(1)"
   ]
  },
  {
   "cell_type": "markdown",
   "metadata": {},
   "source": [
    "## Hilbert curve in 3D"
   ]
  },
  {
   "cell_type": "code",
   "execution_count": 3,
   "metadata": {
    "ExecuteTime": {
     "end_time": "2021-10-07T13:40:35.020404Z",
     "start_time": "2021-10-07T13:40:35.009602Z"
    }
   },
   "outputs": [
    {
     "data": {
      "application/vnd.jupyter.widget-view+json": {
       "model_id": "2121150918a54410a67b5b5c96ea5cbd",
       "version_major": 2,
       "version_minor": 0
      },
      "text/plain": [
       "LsystemWidget(animate=True, derivationLength=5, is_magic=True, scene={'data': b'x\\xdaSLrw\\xf5\\xf7e`Pp\\xe0\\xe5R…"
      ]
     },
     "metadata": {},
     "output_type": "display_data"
    }
   ],
   "source": [
    "%%lpy -w 40 -a True\n",
    "Axiom: A\n",
    "context().turtle.setAngleIncrement(90)\n",
    "\n",
    "derivation length: 4\n",
    "production:\n",
    "\n",
    "A  --> B-F+CFC+F-D&F^D-F+&&CFC+F+B// \n",
    "B  --> A&F^CFB^F^D^^-F-D^|F^B|FC^F^A// \n",
    "C  --> |D^|F^B-F+C^F^A&&FA&F^C+F+B^F^D// \n",
    "D  --> |CFB-F+B|FA&F^A&&FB-F+B|FC// \n",
    "\n",
    "interpretation:\n",
    "A --> ,(2)\n",
    "B --> ,(3)\n",
    "C --> ,(4)\n",
    "D --> ,(5)\n"
   ]
  },
  {
   "cell_type": "markdown",
   "metadata": {},
   "source": [
    "## Barnley Fern \n",
    "\n",
    "Try to construct the barnley fern model.\n",
    "Modify the R value and the angle to achieve other shape.\n",
    "\n",
    "![fern](./img/barnleyfern.png)\n",
    "![fern](./img/barnleyfern-construction.png)\n"
   ]
  },
  {
   "cell_type": "code",
   "execution_count": null,
   "metadata": {
    "ExecuteTime": {
     "end_time": "2021-10-07T13:29:16.407367Z",
     "start_time": "2021-10-07T13:29:16.395554Z"
    }
   },
   "outputs": [],
   "source": [
    "%%lpy -w 20 -a True\n",
    "\n",
    "s_top = 2/3 \n",
    "s_lat = 1/2 \n",
    "Axiom: _(0.01) ,(2) A(1)\n",
    "derivation length: 8\n",
    "production:\n",
    "A(s) --> F(s) [+A(s*s_lat)] - (5)F(s)[/(180)+A(s*s_lat)] - (5) A(s*s_top)\n"
   ]
  },
  {
   "cell_type": "markdown",
   "metadata": {},
   "source": [
    "## Broccoli\n",
    "\n",
    "Generate a broccoli shape:\n",
    "\n",
    "Each node has 4 lateral children internode and an apical one.\n",
    "   - Insertion angle for lateral: 40 \n",
    "   - 90 degree between each lateral children\n",
    "Width depends on the order of ramification\n",
    "Scaling factor of 0.5 between each order\n",
    "Finish structure with sphere with size double from terminal internode\n",
    "\n",
    "![broccoli](./img/broccoli.png)"
   ]
  },
  {
   "cell_type": "code",
   "execution_count": null,
   "metadata": {
    "ExecuteTime": {
     "end_time": "2021-10-06T16:28:11.971912Z",
     "start_time": "2021-10-06T16:28:11.954294Z"
    }
   },
   "outputs": [],
   "source": [
    "%%lpy -w 6 -a True\n",
    "a = 40\n",
    "def nextscale(s) :  return s/2.\n",
    "Axiom: ,(2) _(0.3) F(1, 0.25) A(1) \n",
    "production:\n",
    "derivation length:6\n",
    "A(s) :\n",
    "        produce A(nextscale(s))\n",
    "interpretation:\n",
    "A(s) --> @O(2*s)"
   ]
  },
  {
   "cell_type": "markdown",
   "metadata": {
    "ExecuteTime": {
     "end_time": "2021-10-06T13:41:02.257628Z",
     "start_time": "2021-10-06T13:41:02.250438Z"
    }
   },
   "source": [
    "# Trees\n",
    "\n",
    "Generate a tree such as a the end of each segment, a random number of lateral segment children (between 2 and 4) are generated.\n",
    "  - Insertion angle: 60\n",
    "  - Divergence angle between segments at the same node: proportionnal to number of segments i.e. 360/nb\n",
    "\n",
    "![randomtree](./img/randomtree.png)"
   ]
  },
  {
   "cell_type": "code",
   "execution_count": 26,
   "metadata": {
    "ExecuteTime": {
     "end_time": "2021-10-07T14:22:13.908832Z",
     "start_time": "2021-10-07T14:22:13.898658Z"
    }
   },
   "outputs": [
    {
     "data": {
      "application/vnd.jupyter.widget-view+json": {
       "model_id": "721e16d258984ca4b4ec03ea13f00db4",
       "version_major": 2,
       "version_minor": 0
      },
      "text/plain": [
       "LsystemWidget(animate=True, derivationLength=7, is_magic=True, scene={'data': b'x\\xdaSLrw\\xf5\\xf7e`Pp\\xe0\\xe5R…"
      ]
     },
     "metadata": {},
     "output_type": "display_data"
    }
   ],
   "source": [
    "%%lpy -w 10 -a True\n",
    "from random import *\n",
    "module Segment\n",
    "dl = 0.5\n",
    "ds = 0.1\n",
    "Axiom: A\n",
    "\n",
    "derivation length: 6\n",
    "production:\n",
    "\n",
    "A --> Segment(1)[+(30) A][-(30) A]\n",
    "\n",
    "interpretation:\n",
    "\n",
    "A --> [,(3) @O(0.15) ]\n",
    "Segment(l) --> nF(l,ds)\n",
    "endlsystem"
   ]
  },
  {
   "cell_type": "markdown",
   "metadata": {},
   "source": [
    "## Continuous development"
   ]
  },
  {
   "cell_type": "code",
   "execution_count": null,
   "metadata": {
    "ExecuteTime": {
     "end_time": "2021-10-06T16:43:04.775698Z",
     "start_time": "2021-10-06T16:43:04.764347Z"
    }
   },
   "outputs": [],
   "source": [
    "%%lpy -w 10 -a True\n",
    "\n",
    "phyllochrone = 1/3\n",
    "maxgrowthtime =1\n",
    "Li = 0.5\n",
    "Lf = 1\n",
    "dt = 0.01\n",
    "\n",
    "Axiom: A(0)\n",
    "derivation length: 400\n",
    "production:\n",
    "A(t): \n",
    "    if t > phyllochrone : produce I(0)/(137.5) L(0) A(0)\n",
    "    else: produce A(t+dt)\n",
    "\n",
    "I(t) --> I(min(maxgrowthtime,t+dt))\n",
    "L(t) --> L(min(maxgrowthtime,t+dt))\n",
    "\n",
    "interpretation:\n",
    "I(t) --> F(t * Li)\n",
    "L(t) --> [&(60*t),(2) ~l(t*Lf)]\n"
   ]
  },
  {
   "cell_type": "markdown",
   "metadata": {},
   "source": [
    "## Random patterns"
   ]
  },
  {
   "cell_type": "code",
   "execution_count": 48,
   "metadata": {
    "ExecuteTime": {
     "end_time": "2021-10-07T15:49:35.127681Z",
     "start_time": "2021-10-07T15:49:35.116981Z"
    }
   },
   "outputs": [
    {
     "data": {
      "application/vnd.jupyter.widget-view+json": {
       "model_id": "862be1e68da646448d433fb11e8cb375",
       "version_major": 2,
       "version_minor": 0
      },
      "text/plain": [
       "LsystemWidget(animate=True, derivationLength=101, is_magic=True, scene={'data': b'x\\xdaSLrw\\xf5\\xf7e`Pp\\xe0\\xe…"
      ]
     },
     "metadata": {},
     "output_type": "display_data"
    }
   ],
   "source": [
    "%%lpy -w 400 -a True\n",
    "\n",
    "from random import *\n",
    "p11 = 0.750000 # probability of staying in a branched node\n",
    "p00 = 0.250000 # probability of staying in an empty node\n",
    "\n",
    "Axiom: _(1) S \n",
    "derivation length: 100\n",
    "\n",
    "# x=1 = branching state\n",
    "# x=0 = non-branching state \n",
    "\n",
    "production:\n",
    "ignore: /\n",
    "S :\n",
    "    if random() <= 0.5: produce A\n",
    "    else : produce B\n",
    "\n",
    "A : #  branching\n",
    "    nproduce /(180)I[M]\n",
    "\n",
    "\n",
    "B :  # non branching\n",
    "    nproduce I\n",
    "\n",
    "\n",
    "\n",
    "homomorphism:\n",
    "\n",
    "M --> ;(2)+F(20)\n",
    "I --> ;(1)F(2)\n",
    "A --> ;(1)@O(3)\n"
   ]
  },
  {
   "cell_type": "code",
   "execution_count": null,
   "metadata": {},
   "outputs": [],
   "source": []
  }
 ],
 "metadata": {
  "kernelspec": {
   "display_name": "Python 3 (ipykernel)",
   "language": "python",
   "name": "python3"
  },
  "language_info": {
   "codemirror_mode": {
    "name": "ipython",
    "version": 3
   },
   "file_extension": ".py",
   "mimetype": "text/x-python",
   "name": "python",
   "nbconvert_exporter": "python",
   "pygments_lexer": "ipython3",
   "version": "3.9.7"
  }
 },
 "nbformat": 4,
 "nbformat_minor": 2
}
